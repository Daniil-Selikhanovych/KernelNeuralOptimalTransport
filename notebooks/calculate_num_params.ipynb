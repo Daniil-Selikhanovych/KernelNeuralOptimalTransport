{
 "cells": [
  {
   "cell_type": "code",
   "execution_count": 5,
   "id": "bf6da3aa",
   "metadata": {},
   "outputs": [
    {
     "name": "stdout",
     "output_type": "stream",
     "text": [
      "res shape  torch.Size([64, 3, 64, 64])\n",
      "T params: 9901587\n",
      "D params: 22933441\n",
      "total  32835028\n",
      "res shape  torch.Size([64, 3, 128, 128])\n",
      "T params: 9901587\n",
      "D params: 32372673\n",
      "total  42274260\n"
     ]
    }
   ],
   "source": [
    "import os, sys\n",
    "sys.path.append(\"..\")\n",
    "\n",
    "import numpy as np\n",
    "import torch\n",
    "\n",
    "from src.resnet2 import ResNet_D\n",
    "from src.cunet import CUNet\n",
    "\n",
    "IMG_SIZE = 64\n",
    "ZC = 128\n",
    "BATCH_SIZE = 64\n",
    "Z_SIZE = 4\n",
    "\n",
    "D = ResNet_D(IMG_SIZE, nc=3)\n",
    "T = CUNet(3, 3, ZC, base_factor=48)\n",
    "\n",
    "T_params = np.sum([np.prod(p.shape) for p in T.parameters()])\n",
    "D_params = np.sum([np.prod(p.shape) for p in D.parameters()])\n",
    "\n",
    "X = torch.randn(BATCH_SIZE, 3, IMG_SIZE, IMG_SIZE)\n",
    "Z = torch.randn(BATCH_SIZE, ZC, 1, 1)\n",
    "\n",
    "T_res = T(X, Z)\n",
    "print(\"res shape \", T_res.shape)\n",
    "\n",
    "print('T params:', T_params)\n",
    "print('D params:', D_params)\n",
    "print('total ', T_params + D_params)\n",
    "\n",
    "IMG_SIZE = 128\n",
    "D = ResNet_D(IMG_SIZE, nc=3)\n",
    "T = CUNet(3, 3, ZC, base_factor=48)\n",
    "\n",
    "T_params = np.sum([np.prod(p.shape) for p in T.parameters()])\n",
    "D_params = np.sum([np.prod(p.shape) for p in D.parameters()])\n",
    "\n",
    "X = torch.randn(BATCH_SIZE, 3, IMG_SIZE, IMG_SIZE)\n",
    "Z = torch.randn(BATCH_SIZE, ZC, 1, 1)\n",
    "\n",
    "T_res = T(X, Z)\n",
    "print(\"res shape \", T_res.shape)\n",
    "\n",
    "print('T params:', T_params)\n",
    "print('D params:', D_params)\n",
    "print('total ', T_params + D_params)"
   ]
  },
  {
   "cell_type": "code",
   "execution_count": null,
   "id": "88a6825d",
   "metadata": {},
   "outputs": [],
   "source": []
  }
 ],
 "metadata": {
  "kernelspec": {
   "display_name": "otenv",
   "language": "python",
   "name": "otenv"
  },
  "language_info": {
   "codemirror_mode": {
    "name": "ipython",
    "version": 3
   },
   "file_extension": ".py",
   "mimetype": "text/x-python",
   "name": "python",
   "nbconvert_exporter": "python",
   "pygments_lexer": "ipython3",
   "version": "3.8.13"
  }
 },
 "nbformat": 4,
 "nbformat_minor": 5
}
